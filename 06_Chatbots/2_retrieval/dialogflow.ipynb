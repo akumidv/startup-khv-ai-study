{
  "nbformat": 4,
  "nbformat_minor": 0,
  "metadata": {
    "colab": {
      "name": "dialogflow.ipynb",
      "provenance": [],
      "collapsed_sections": [],
      "toc_visible": true
    },
    "kernelspec": {
      "name": "python3",
      "display_name": "Python 3"
    },
    "language_info": {
      "name": "python"
    }
  },
  "cells": [
    {
      "cell_type": "markdown",
      "metadata": {
        "id": "PldDQYcwQ3Jc"
      },
      "source": [
        "# Описание\n",
        "\n",
        "Исходный репозиторий: https://github.com/RobZuazua/kiwi-mental-health-chatbot\n",
        "\n",
        "Логика работы:\n",
        "\n",
        "Использует базу http://www.nacbt.org/whatiscbt-htm/ для диалога, но самих данных в репозитории нет.\n",
        "\n",
        "Для логики использует внешнее API dialoflow (https://cloud.google.com/dialogflow/docs/), пакет apiai\n",
        "Примеры работы с apiai:\n",
        "* Погодный чат бот телеграмм https://habr.com/ru/post/336668/\n",
        "* голосовой бот https://habr.com/ru/post/515128/\n",
        "* настройки интеграции с carrot https://help.carrotquest.io/article/139\n",
        "* новая версия (на примере энтепрайз) https://medium.com/google-cloud/how-to-create-a-chatbot-using-dialogflow-enterprise-edition-and-dialogflow-api-v2-923f4a965176\n",
        "* работа с диалог флоу в питон https://medium.com/swlh/working-with-dialogflow-using-python-client-cb2196d579a4\n",
        "\n",
        "Сервис стал платный. Условия https://cloud.google.com/dialogflow/docs/editions#es-agent Есть базовая демо версия\n",
        "\n",
        "Для обработки текста (NLP) используется spacy https://spacy.io/\n",
        "\n",
        "В СУБД хранятся сессии и результаты беседы.\n",
        "\n",
        "Flask как веб оболочка"
      ]
    },
    {
      "cell_type": "markdown",
      "metadata": {
        "id": "OGFwA6arV2tM"
      },
      "source": [
        "## Предварительные действия\n",
        "\n",
        "Регистрируем агента для apiai:\n",
        "1. Переходим https://dialogflow.cloud.google.com/#/login\n",
        "2. Авторизуемся\n",
        "3. Нажимаем создать агента\n",
        "4. Задаем имя агента и язык, например `ru`\n",
        "5. Создаем и переходим по ссылки в созданный гугл проект. Запоминаем название проекта, например `test-xhbs` и записываем его в DIALOGFLOW_PROJECT_ID\n",
        "6. Переходим в настройки проекта и раздел `Service accoun`\n",
        "7. Создаем сервисный аккаунт\n",
        "8. Выбираем роль `Dialogflow API Client` и `Done`\n",
        "9. Выбираем для аккаунта свойства (три точки) и `Manage keys`\n",
        "10. Создаем ключ и сохраняем json с названием `dialogflow-test-key.json`\n",
        "11. Кладем ключ в папку на диске `/content/gdrive/MyDrive/chats_emotions_and_voises/chat03_kiwi-mental-health-chatbot`. Путь указан в os.environ[\"GOOGLE_APPLICATION_CREDENTIALS\"]\n",
        "12. Переходим в Intents dialogflow и кликаем на добавить.\n",
        "13. Вводим название `Worry`\n",
        "14. В `Training phrases` добавляем фразы на которые будут реагировать как на беспокойство, для примера `беспокоит` и `раздражает` - на эти ключевые слова будет активирован сценарий `Worry` и включе дополнительный анализ в программе. Можно восстановитьи из архива `dialogflow_kiwi-mental-health-chatbot.zip`\n",
        "15. В `Responses` добавляем типовой ответ, например `Что вас беспокоит`\n",
        "16. В последней ячейке с формой вводим текст для запроса, например `если телевизор меня беспокоит тогда я хочу его выключить`\n",
        "\n",
        "Ограничения и особенности модели:\n",
        "* Ключевые слова для связанных текстов `если`, `тогда`, `потому` на них реагирует этим модулем и заменяет ответ dialogflow на построенный в функции `checkRelationships`\n",
        "* Функция наводящих вопросв на предмет не работает, так как у scapy для русского языка функционал парсинга по местоположению слов в предложении не реализован из-за возможности нахождения ключевых слов в произвольном месте предложения.\n",
        "\n"
      ]
    },
    {
      "cell_type": "code",
      "metadata": {
        "colab": {
          "base_uri": "https://localhost:8080/"
        },
        "id": "40Zhxw4JgLcX",
        "outputId": "1b6fcc85-3167-4ce1-be5d-d892ad797005"
      },
      "source": [
        "import os\n",
        "from google.colab import drive\n",
        "drive.mount('/content/gdrive')\n",
        "\n",
        "os.environ[\"GOOGLE_APPLICATION_CREDENTIALS\"] = '/content/gdrive/MyDrive/data/dialogflow-test-key.json' #'/content/gdrive/MyDrive/chats_emotions_and_voises/chat03_kiwi-mental-health-chatbot/dialogflow-test-key.json'\n",
        "\n",
        "DIALOGFLOW_PROJECT_ID = 'test-xhbs'\n",
        "DIALOGFLOW_LANGUAGE_CODE = 'ru'\n",
        "SESSION_ID = 'me'"
      ],
      "execution_count": 14,
      "outputs": [
        {
          "output_type": "stream",
          "text": [
            "Drive already mounted at /content/gdrive; to attempt to forcibly remount, call drive.mount(\"/content/gdrive\", force_remount=True).\n"
          ],
          "name": "stdout"
        }
      ]
    },
    {
      "cell_type": "code",
      "metadata": {
        "colab": {
          "base_uri": "https://localhost:8080/"
        },
        "id": "dG7zWiRAR2Mg",
        "outputId": "470d2ca3-64b5-4680-be1f-2897cedb6c29"
      },
      "source": [
        "# Устанавливаем зависимости. После нужно перезапустить ядро!\n",
        "!pip install simplejson google-cloud-dialogflow==2.1.2 spacy==3.0.6 #download\n",
        "!pip install dialogflow google-api-core"
      ],
      "execution_count": 3,
      "outputs": [
        {
          "output_type": "stream",
          "text": [
            "Collecting dialogflow\n",
            "\u001b[?25l  Downloading https://files.pythonhosted.org/packages/9a/02/a1a507621c981d19265390fe52222db69b2a2ff9b53ceb694d80294144c2/dialogflow-1.1.0-py2.py3-none-any.whl (354kB)\n",
            "\u001b[K     |████████████████████████████████| 358kB 4.0MB/s \n",
            "\u001b[?25hRequirement already satisfied: google-api-core in /usr/local/lib/python3.7/dist-packages (1.26.3)\n",
            "Requirement already satisfied: pytz in /usr/local/lib/python3.7/dist-packages (from google-api-core) (2018.9)\n",
            "Requirement already satisfied: google-auth<2.0dev,>=1.21.1 in /usr/local/lib/python3.7/dist-packages (from google-api-core) (1.30.0)\n",
            "Requirement already satisfied: requests<3.0.0dev,>=2.18.0 in /usr/local/lib/python3.7/dist-packages (from google-api-core) (2.23.0)\n",
            "Requirement already satisfied: setuptools>=40.3.0 in /usr/local/lib/python3.7/dist-packages (from google-api-core) (57.0.0)\n",
            "Requirement already satisfied: six>=1.13.0 in /usr/local/lib/python3.7/dist-packages (from google-api-core) (1.15.0)\n",
            "Requirement already satisfied: protobuf>=3.12.0 in /usr/local/lib/python3.7/dist-packages (from google-api-core) (3.12.4)\n",
            "Requirement already satisfied: googleapis-common-protos<2.0dev,>=1.6.0 in /usr/local/lib/python3.7/dist-packages (from google-api-core) (1.53.0)\n",
            "Requirement already satisfied: packaging>=14.3 in /usr/local/lib/python3.7/dist-packages (from google-api-core) (20.9)\n",
            "Requirement already satisfied: cachetools<5.0,>=2.0.0 in /usr/local/lib/python3.7/dist-packages (from google-auth<2.0dev,>=1.21.1->google-api-core) (4.2.2)\n",
            "Requirement already satisfied: rsa<5,>=3.1.4; python_version >= \"3.6\" in /usr/local/lib/python3.7/dist-packages (from google-auth<2.0dev,>=1.21.1->google-api-core) (4.7.2)\n",
            "Requirement already satisfied: pyasn1-modules>=0.2.1 in /usr/local/lib/python3.7/dist-packages (from google-auth<2.0dev,>=1.21.1->google-api-core) (0.2.8)\n",
            "Requirement already satisfied: chardet<4,>=3.0.2 in /usr/local/lib/python3.7/dist-packages (from requests<3.0.0dev,>=2.18.0->google-api-core) (3.0.4)\n",
            "Requirement already satisfied: urllib3!=1.25.0,!=1.25.1,<1.26,>=1.21.1 in /usr/local/lib/python3.7/dist-packages (from requests<3.0.0dev,>=2.18.0->google-api-core) (1.24.3)\n",
            "Requirement already satisfied: idna<3,>=2.5 in /usr/local/lib/python3.7/dist-packages (from requests<3.0.0dev,>=2.18.0->google-api-core) (2.10)\n",
            "Requirement already satisfied: certifi>=2017.4.17 in /usr/local/lib/python3.7/dist-packages (from requests<3.0.0dev,>=2.18.0->google-api-core) (2020.12.5)\n",
            "Requirement already satisfied: pyparsing>=2.0.2 in /usr/local/lib/python3.7/dist-packages (from packaging>=14.3->google-api-core) (2.4.7)\n",
            "Requirement already satisfied: pyasn1>=0.1.3 in /usr/local/lib/python3.7/dist-packages (from rsa<5,>=3.1.4; python_version >= \"3.6\"->google-auth<2.0dev,>=1.21.1->google-api-core) (0.4.8)\n",
            "Installing collected packages: dialogflow\n",
            "Successfully installed dialogflow-1.1.0\n"
          ],
          "name": "stdout"
        }
      ]
    },
    {
      "cell_type": "code",
      "metadata": {
        "colab": {
          "base_uri": "https://localhost:8080/"
        },
        "id": "Rq79lce5_Uaf",
        "outputId": "035d276d-d6c7-4e78-a084-6d9bfde1d9cb"
      },
      "source": [
        "!python -m spacy download ru_core_news_sm"
      ],
      "execution_count": 1,
      "outputs": [
        {
          "output_type": "stream",
          "text": [
            "2021-06-04 17:21:05.561079: I tensorflow/stream_executor/platform/default/dso_loader.cc:53] Successfully opened dynamic library libcudart.so.11.0\n",
            "Requirement already satisfied: ru-core-news-sm==3.0.0 from https://github.com/explosion/spacy-models/releases/download/ru_core_news_sm-3.0.0/ru_core_news_sm-3.0.0-py3-none-any.whl#egg=ru_core_news_sm==3.0.0 in /usr/local/lib/python3.7/dist-packages (3.0.0)\n",
            "Requirement already satisfied: pymorphy2>=0.9 in /usr/local/lib/python3.7/dist-packages (from ru-core-news-sm==3.0.0) (0.9.1)\n",
            "Requirement already satisfied: spacy<3.1.0,>=3.0.0 in /usr/local/lib/python3.7/dist-packages (from ru-core-news-sm==3.0.0) (3.0.6)\n",
            "Requirement already satisfied: pymorphy2-dicts-ru<3.0,>=2.4 in /usr/local/lib/python3.7/dist-packages (from pymorphy2>=0.9->ru-core-news-sm==3.0.0) (2.4.417127.4579844)\n",
            "Requirement already satisfied: dawg-python>=0.7.1 in /usr/local/lib/python3.7/dist-packages (from pymorphy2>=0.9->ru-core-news-sm==3.0.0) (0.7.2)\n",
            "Requirement already satisfied: docopt>=0.6 in /usr/local/lib/python3.7/dist-packages (from pymorphy2>=0.9->ru-core-news-sm==3.0.0) (0.6.2)\n",
            "Requirement already satisfied: tqdm<5.0.0,>=4.38.0 in /usr/local/lib/python3.7/dist-packages (from spacy<3.1.0,>=3.0.0->ru-core-news-sm==3.0.0) (4.41.1)\n",
            "Requirement already satisfied: wasabi<1.1.0,>=0.8.1 in /usr/local/lib/python3.7/dist-packages (from spacy<3.1.0,>=3.0.0->ru-core-news-sm==3.0.0) (0.8.2)\n",
            "Requirement already satisfied: thinc<8.1.0,>=8.0.3 in /usr/local/lib/python3.7/dist-packages (from spacy<3.1.0,>=3.0.0->ru-core-news-sm==3.0.0) (8.0.3)\n",
            "Requirement already satisfied: typer<0.4.0,>=0.3.0 in /usr/local/lib/python3.7/dist-packages (from spacy<3.1.0,>=3.0.0->ru-core-news-sm==3.0.0) (0.3.2)\n",
            "Requirement already satisfied: numpy>=1.15.0 in /usr/local/lib/python3.7/dist-packages (from spacy<3.1.0,>=3.0.0->ru-core-news-sm==3.0.0) (1.19.5)\n",
            "Requirement already satisfied: blis<0.8.0,>=0.4.0 in /usr/local/lib/python3.7/dist-packages (from spacy<3.1.0,>=3.0.0->ru-core-news-sm==3.0.0) (0.4.1)\n",
            "Requirement already satisfied: srsly<3.0.0,>=2.4.1 in /usr/local/lib/python3.7/dist-packages (from spacy<3.1.0,>=3.0.0->ru-core-news-sm==3.0.0) (2.4.1)\n",
            "Requirement already satisfied: pydantic<1.8.0,>=1.7.1 in /usr/local/lib/python3.7/dist-packages (from spacy<3.1.0,>=3.0.0->ru-core-news-sm==3.0.0) (1.7.4)\n",
            "Requirement already satisfied: cymem<2.1.0,>=2.0.2 in /usr/local/lib/python3.7/dist-packages (from spacy<3.1.0,>=3.0.0->ru-core-news-sm==3.0.0) (2.0.5)\n",
            "Requirement already satisfied: catalogue<2.1.0,>=2.0.3 in /usr/local/lib/python3.7/dist-packages (from spacy<3.1.0,>=3.0.0->ru-core-news-sm==3.0.0) (2.0.4)\n",
            "Requirement already satisfied: setuptools in /usr/local/lib/python3.7/dist-packages (from spacy<3.1.0,>=3.0.0->ru-core-news-sm==3.0.0) (57.0.0)\n",
            "Requirement already satisfied: packaging>=20.0 in /usr/local/lib/python3.7/dist-packages (from spacy<3.1.0,>=3.0.0->ru-core-news-sm==3.0.0) (20.9)\n",
            "Requirement already satisfied: pathy>=0.3.5 in /usr/local/lib/python3.7/dist-packages (from spacy<3.1.0,>=3.0.0->ru-core-news-sm==3.0.0) (0.5.2)\n",
            "Requirement already satisfied: spacy-legacy<3.1.0,>=3.0.4 in /usr/local/lib/python3.7/dist-packages (from spacy<3.1.0,>=3.0.0->ru-core-news-sm==3.0.0) (3.0.5)\n",
            "Requirement already satisfied: requests<3.0.0,>=2.13.0 in /usr/local/lib/python3.7/dist-packages (from spacy<3.1.0,>=3.0.0->ru-core-news-sm==3.0.0) (2.23.0)\n",
            "Requirement already satisfied: typing-extensions<4.0.0.0,>=3.7.4; python_version < \"3.8\" in /usr/local/lib/python3.7/dist-packages (from spacy<3.1.0,>=3.0.0->ru-core-news-sm==3.0.0) (3.7.4.3)\n",
            "Requirement already satisfied: preshed<3.1.0,>=3.0.2 in /usr/local/lib/python3.7/dist-packages (from spacy<3.1.0,>=3.0.0->ru-core-news-sm==3.0.0) (3.0.5)\n",
            "Requirement already satisfied: jinja2 in /usr/local/lib/python3.7/dist-packages (from spacy<3.1.0,>=3.0.0->ru-core-news-sm==3.0.0) (2.11.3)\n",
            "Requirement already satisfied: murmurhash<1.1.0,>=0.28.0 in /usr/local/lib/python3.7/dist-packages (from spacy<3.1.0,>=3.0.0->ru-core-news-sm==3.0.0) (1.0.5)\n",
            "Requirement already satisfied: click<7.2.0,>=7.1.1 in /usr/local/lib/python3.7/dist-packages (from typer<0.4.0,>=0.3.0->spacy<3.1.0,>=3.0.0->ru-core-news-sm==3.0.0) (7.1.2)\n",
            "Requirement already satisfied: zipp>=0.5; python_version < \"3.8\" in /usr/local/lib/python3.7/dist-packages (from catalogue<2.1.0,>=2.0.3->spacy<3.1.0,>=3.0.0->ru-core-news-sm==3.0.0) (3.4.1)\n",
            "Requirement already satisfied: pyparsing>=2.0.2 in /usr/local/lib/python3.7/dist-packages (from packaging>=20.0->spacy<3.1.0,>=3.0.0->ru-core-news-sm==3.0.0) (2.4.7)\n",
            "Requirement already satisfied: smart-open<4.0.0,>=2.2.0 in /usr/local/lib/python3.7/dist-packages (from pathy>=0.3.5->spacy<3.1.0,>=3.0.0->ru-core-news-sm==3.0.0) (3.0.0)\n",
            "Requirement already satisfied: idna<3,>=2.5 in /usr/local/lib/python3.7/dist-packages (from requests<3.0.0,>=2.13.0->spacy<3.1.0,>=3.0.0->ru-core-news-sm==3.0.0) (2.10)\n",
            "Requirement already satisfied: urllib3!=1.25.0,!=1.25.1,<1.26,>=1.21.1 in /usr/local/lib/python3.7/dist-packages (from requests<3.0.0,>=2.13.0->spacy<3.1.0,>=3.0.0->ru-core-news-sm==3.0.0) (1.24.3)\n",
            "Requirement already satisfied: certifi>=2017.4.17 in /usr/local/lib/python3.7/dist-packages (from requests<3.0.0,>=2.13.0->spacy<3.1.0,>=3.0.0->ru-core-news-sm==3.0.0) (2020.12.5)\n",
            "Requirement already satisfied: chardet<4,>=3.0.2 in /usr/local/lib/python3.7/dist-packages (from requests<3.0.0,>=2.13.0->spacy<3.1.0,>=3.0.0->ru-core-news-sm==3.0.0) (3.0.4)\n",
            "Requirement already satisfied: MarkupSafe>=0.23 in /usr/local/lib/python3.7/dist-packages (from jinja2->spacy<3.1.0,>=3.0.0->ru-core-news-sm==3.0.0) (2.0.1)\n",
            "\u001b[38;5;2m✔ Download and installation successful\u001b[0m\n",
            "You can now load the package via spacy.load('ru_core_news_sm')\n"
          ],
          "name": "stdout"
        }
      ]
    },
    {
      "cell_type": "code",
      "metadata": {
        "id": "n0SVzmstR9Oa"
      },
      "source": [
        "import spacy\n",
        "import simplejson as json\n",
        "import dialogflow\n",
        "\n",
        "from google.api_core.exceptions import InvalidArgument"
      ],
      "execution_count": 4,
      "outputs": []
    },
    {
      "cell_type": "code",
      "metadata": {
        "id": "o8YbWfXpTC3i"
      },
      "source": [
        "# Функция инициализации общения (убрано сохранение )\n",
        "def createStateObjAndCookie(cookie,stateObj):\n",
        "        stateObj['id']=cookie['value']\n",
        "        stateObj['worry']=''\n",
        "        stateObj['relationshipA']=''\n",
        "        stateObj['relationshipB']=''\n",
        "        stateObj['certainty']=''\n",
        "        stateObj['last']=''\n",
        "        stateObj['lastResponse']=''"
      ],
      "execution_count": 5,
      "outputs": []
    },
    {
      "cell_type": "code",
      "metadata": {
        "id": "G2vqbTh6wige"
      },
      "source": [
        "def updateState(stateObj):\n",
        "        if not stateObj['worry']:\n",
        "          stateObj['worry'] = 'NULL'\n",
        "        else:\n",
        "          stateObj['worry'] = \"\\'\"+stateObj['worry']+'\\''\n",
        "        if not stateObj['relationshipA']:\n",
        "          stateObj['relationshipA'] = 'NULL'\n",
        "        else:\n",
        "          stateObj['relationshipA'] = \"\\'\"+stateObj['relationshipA']+'\\''\n",
        "        if not stateObj['relationshipB']:\n",
        "          stateObj['relationshipB'] = 'NULL'\n",
        "        else:\n",
        "          stateObj['relationshipB'] = \"\\'\"+stateObj['relationshipB']+'\\''\n",
        "        if not stateObj['certainty']:\n",
        "          stateObj['certainty'] = 'NULL'\n",
        "        else:\n",
        "          stateObj['certainty'] = \"\\'\"+stateObj['certainty']+'\\''\n",
        "        if not stateObj['last']:\n",
        "          stateObj['last'] = 'NULL'\n",
        "        else:\n",
        "          stateObj['last'] = \"\\'\"+stateObj['last']+'\\''\n",
        "        if not stateObj['lastResponse']:\n",
        "          stateObj['lastResponse'] = 'NULL'\n",
        "        else:\n",
        "          stateObj['lastResponse'] = \"\\'\"+stateObj['lastResponse']+'\\''\n",
        "\n",
        "        return"
      ],
      "execution_count": 7,
      "outputs": []
    },
    {
      "cell_type": "code",
      "metadata": {
        "id": "fwkhylZfUEtd"
      },
      "source": [
        "# Переделано на новую версию API\n",
        "\n",
        "def dialogflow_requrst(message):  \n",
        "    text_to_be_analyzed = message\n",
        "    session_client = dialogflow.SessionsClient()\n",
        "    session = session_client.session_path(DIALOGFLOW_PROJECT_ID, SESSION_ID)\n",
        "    text_input = dialogflow.types.TextInput(text=text_to_be_analyzed, language_code=DIALOGFLOW_LANGUAGE_CODE)\n",
        "    query_input = dialogflow.types.QueryInput(text=text_input)\n",
        "    try:\n",
        "        response = session_client.detect_intent(session=session, query_input=query_input)\n",
        "    except InvalidArgument:\n",
        "        raise\n",
        "\n",
        "    print(\"ВОПРОС:\", response.query_result.query_text)\n",
        "    print(\"        Detected intent:\", response.query_result.intent.display_name)\n",
        "    print(\"        Detected intent confidence:\", response.query_result.intent_detection_confidence)\n",
        "    print(\"        Fulfillment text:\", response.query_result.fulfillment_text)\n",
        "\n",
        "    return response.query_result\n"
      ],
      "execution_count": 19,
      "outputs": []
    },
    {
      "cell_type": "code",
      "metadata": {
        "id": "D-Gj7c1TnxRn"
      },
      "source": [
        "def spacyHandleWorries(stateObj, message):\n",
        "    # nlp = spacy.load('en')\n",
        "\n",
        "    nlp = spacy.load(\"ru_core_news_sm\")\n",
        "    # nlp = Russian()     #nlp = spacy.load('ru')\n",
        "    doc = nlp(message)\n",
        "    noun_chunks = {}\n",
        "    try:\n",
        "      for chunk in doc.noun_chunks: # Определяет связи слов в предложении, не применимо для русского языка и выбрасывает ошибку\n",
        "          noun_chunks.update({chunk.root.dep_:chunk})\n",
        "    except Exception as err:\n",
        "      print(err)\n",
        "\n",
        "    found = ''\n",
        "    dependencies = list(noun_chunks.keys()) # Схема объектов https://spacy.io/usage/spacy-101\n",
        "    if 'dobj' in dependencies: \n",
        "        found = noun_chunks['dobj']\n",
        "    elif 'pobj' in dependencies:\n",
        "        found = noun_chunks['pobj']\n",
        "    elif 'pcomp' in dependencies:\n",
        "        found = noun_chunks['pcomp']\n",
        "\n",
        "    if found:\n",
        "        #stateObj['worry'].append(found)\n",
        "        stateObj['worry'] = str(found)\n",
        "        stateObj['last'] = \"worry\"\n",
        "        # stateObj['lastResponse'] = \"Why are you worried about {}?\".format(found)\n",
        "        stateObj['lastResponse'] = \"Почему вы об {} беспокоитесь?\".format(found)\n",
        "    else:\n",
        "        #stateObj['lastResponse'] = \"I understand you are worried about something, what is it that you are worried about?\"\n",
        "        stateObj['lastResponse'] = \"Я понимаю что вы о чем-то беспокоитесь. Но почему вас это беспокоит?\"\n",
        "        stateObj['last'] = \"worry\"\n",
        "\n",
        "def checkCertainties(stateObj,message):\n",
        "    # nlp = spacy.load('en')\n",
        "    nlp = spacy.load(\"ru_core_news_sm\")\n",
        "    doc = nlp(message)\n",
        "    tokens = []\n",
        "    for token in doc:\n",
        "        tokens.append(str(token).lower())\n",
        "    print('   Токены', tokens)\n",
        "    certainWords = [\"думаю\", \"считаю\", \"уверен\"]\n",
        "    foundCertainWords = list(set(tokens).intersection(certainWords))\n",
        "    print('    Найденные слова уверенности', foundCertainWords)    \n",
        "\n",
        "    if foundCertainWords:\n",
        "        if len(foundCertainWords) == 1:\n",
        "            certainWord = foundCertainWords[0]\n",
        "            certainWord_index = tokens.index(certainWord)\n",
        "            certainty = ' '.join(tokens[certainWord_index+1:])\n",
        "            #stateObj['certainty'].append(certainty)\n",
        "            stateObj['certainty']=certainty\n",
        "            stateObj['last'] = 'certainty'\n",
        "            # stateObj['lastResponse'] = 'You seem pretty certain that {}. What is the reasoning behind this?'.format(certainty)\n",
        "            stateObj['lastResponse'] = 'Вы выглядите достаточно уверенными {}. Что стоит за этим?'.format(certainty)\n",
        "            return\n",
        "        else:\n",
        "            stateObj['last']='certainty'\n",
        "            # stateObj['lastResponse']='Tell me more about why you are certain about this'\n",
        "            stateObj['lastResponse']='Расскажите мне почему вы так уверены в этом'\n",
        "            return\n",
        "    # stateObj['lastResponse='] = 'Tell me about what is on your mind'\n",
        "    stateObj['lastResponse='] = 'Расскажите мне, что у вас на уме'\n",
        "    return"
      ],
      "execution_count": 25,
      "outputs": []
    },
    {
      "cell_type": "code",
      "metadata": {
        "id": "Ko_Cus9QtgZ7"
      },
      "source": [
        "def checkRelationships(stateObj, message):\n",
        "    # nlp = spacy.load('en')\n",
        "    nlp = spacy.load(\"ru_core_news_sm\")\n",
        "    doc = nlp(message)\n",
        "    tokens = []\n",
        "    print('doc is' ,doc)\n",
        "    for token in doc:\n",
        "        tokens.append(str(token).lower())\n",
        "    #relationshipWords = [\"if\", \"then\", \"because\"]\n",
        "    relationshipWords = [\"если\", \"тогда\", \"потому\"]\n",
        "    foundRelationshipWords = set(tokens).intersection(relationshipWords)\n",
        "\n",
        "\n",
        "    if foundRelationshipWords:\n",
        "        if \"если\" in foundRelationshipWords and \"тогда\" in foundRelationshipWords:\n",
        "            if_index = tokens.index(\"если\")\n",
        "            then_index = tokens.index(\"тогда\")\n",
        "            if if_index < then_index:\n",
        "                a = ' '.join(tokens[if_index+1:then_index])\n",
        "                b = ' '.join(tokens[then_index+1:])\n",
        "                stateObj['relationshipA']=a\n",
        "                stateObj['relationshipB']=b\n",
        "                print(stateObj['relationshipA'])\n",
        "                #stateObj['relationships'].append([a,b])\n",
        "                stateObj['last'] = 'relationship'\n",
        "                # stateObj['lastResponse'] = 'I understand you believe {} implies {}. Maybe we can talk more about this. What do you think the consequence of this is?'.format(a,b)\n",
        "                stateObj['lastResponse'] = 'Я понимаю, что вы веря в {} подразумеваете {}. Может быть мы можем поговорить об этом. Какие вы думаете у этого последствия?'.format(a,b)\n",
        "                return\n",
        "            else:\n",
        "                stateObj['last']=''\n",
        "                # stateObj['lastResponse']='That sounded pretty complex. Tell me more about your reasoning'\n",
        "                stateObj['lastResponse']='Это звучит достаточно сложно. Расскажите мне о ваших рассуждениях'\n",
        "                return\n",
        "\n",
        "        if \"если\" in foundRelationshipWords:\n",
        "            if_index = tokens.index(\"если\")\n",
        "            if if_index:\n",
        "                a = ' '.join(tokens[if_index+1:])\n",
        "                b = ' '.join(tokens[:if_index])\n",
        "                #stateObj.relationships.append([a,b])\n",
        "                stateObj['relationshipA']=a\n",
        "                stateObj['relationshipB']=b\n",
        "                stateObj['last'] = 'relationship'\n",
        "                # stateObj['lastResponse'] = 'I understand you believe {} implies {}. Maybe we can talk more about this. What do you think the consequence of this is?'.format(a,b)\n",
        "                stateObj['lastResponse'] = 'Я понимаю, что вы говоря о {} подразумеваете {}. Может быть мы можем поговорить об этом. Какие вы думаете у этого последствия?'.format(a,b)\n",
        "                return\n",
        "            else:\n",
        "                stateObj['last']=''\n",
        "                # stateObj['lastResponse']='Hmm.. Tell me more about your reasoning'\n",
        "                stateObj['lastResponse']='Хм... Расскажите мне о ваших рассуждениях'\n",
        "                return\n",
        "\n",
        "\n",
        "        if \"потому\" in foundRelationshipWords:\n",
        "            because_index = tokens.index(\"потому\")\n",
        "            if because_index:\n",
        "                a = ' '.join(tokens[because_index+1:])\n",
        "                b = ' '.join(tokens[:because_index])\n",
        "                stateObj['relationshipA']=a\n",
        "                stateObj['relationshipB']=b\n",
        "                stateObj['last'] = 'relationship'\n",
        "                # stateObj['lastResponse'] = 'I understand you believe {} implies {}. Maybe we can talk more about this. What do you think the consequence of this is?'.format(a,b)\n",
        "                stateObj['lastResponse'] = 'Я понимаю, что вы веря в {} подразумеваете {}. Может быть мы можем поговорить об этом. Какие вы думаете у этого последствия?'.format(a,b)\n",
        "                return\n",
        "            else:\n",
        "                stateObj['last']=''\n",
        "                # stateObj['lastResponse']='I see, what is the consequence of that?'\n",
        "                stateObj['lastResponse']='Понимаю. А какие последствия у этого?'\n",
        "                return\n",
        "\n",
        "        # stateObj['lastResponse']='Tell me about your feelings'\n",
        "        stateObj['lastResponse']='Расскажите мне о том, что вы чувствуете'\n",
        "        return"
      ],
      "execution_count": 10,
      "outputs": []
    },
    {
      "cell_type": "code",
      "metadata": {
        "id": "cInf1Y25jWkd"
      },
      "source": [
        "def matchIntent(stateObj, dialogflowResponse, userMessage):\n",
        "\n",
        "    # intent = dialogflowResponse['result']['metadata']['intentName']\n",
        "    intent = dialogflowResponse.intent.display_name\n",
        "    # responseDialog = dialogflowResponse['result']['fulfillment']['messages'][0]['speech']\n",
        "    responseDialog = dialogflowResponse.fulfillment_text\n",
        "\n",
        "    stateObj['last']=''\n",
        "\n",
        "    # if intent == 'Default Welcome Intent' or intent == 'not sure':\n",
        "    if intent == 'Default Welcome Intent' or intent == 'Default Fallback Intent':\n",
        "        return responseDialog\n",
        "\n",
        "    if intent == 'Worry':\n",
        "        spacyHandleWorries(stateObj, userMessage)\n",
        "\n",
        "    checkRelationships(stateObj, userMessage)\n",
        "\n",
        "    if not stateObj['relationshipA'] or stateObj['relationshipA'] == 'NULL':\n",
        "        checkCertainties(stateObj,userMessage)\n",
        "\n",
        "    updateState(stateObj)\n",
        "\n",
        "    if not stateObj['lastResponse'] or stateObj['lastResponse'] == 'NULL':\n",
        "      stateObj['lastResponse'] = responseDialog\n",
        "\n",
        "    if stateObj['lastResponse'][0] == \"'\":\n",
        "      stateObj['lastResponse'] = stateObj['lastResponse'][1:-1]\n",
        "\n",
        "    stateObj['lastResponse']=stateObj['lastResponse'].replace('мой','ваш')\n",
        "    print(\"ЗДЕСЬ РЕЗУЛЬТАТ: \" + stateObj['lastResponse'])\n",
        "\n",
        "    return stateObj['lastResponse']"
      ],
      "execution_count": 11,
      "outputs": []
    },
    {
      "cell_type": "code",
      "metadata": {
        "id": "x6HYN1vlSb3r"
      },
      "source": [
        "# Входная функция получения сообщения\n",
        "def apiEndpoint(data):\n",
        "    \"\"\"\n",
        "    data: {userMessage: message}\n",
        "    \"\"\"\n",
        "    # data = request.get_json()\n",
        "    stateObj={}\n",
        "    cookie = {'value':'123'}\n",
        "    createStateObjAndCookie(cookie, stateObj) # Убарны куки\n",
        "\n",
        "    print(stateObj)\n",
        "    userMessage = data['userMessage']\n",
        "    # dialogflowResponse = dialogflow(userMessage); # Нельзя запрос называть как библиотека\n",
        "    dialogflowResponse = dialogflow_requrst(userMessage)\n",
        "    \n",
        "    # print(dialogflowResponse)\n",
        "    apiResponse = matchIntent(stateObj,dialogflowResponse,userMessage)\n",
        "    print('\\nBOT:', apiResponse)"
      ],
      "execution_count": 17,
      "outputs": []
    },
    {
      "cell_type": "code",
      "metadata": {
        "colab": {
          "base_uri": "https://localhost:8080/",
          "height": 1000
        },
        "id": "RZ1lT6fmPc06",
        "outputId": "45f21a12-7685-48c6-bf4f-3f37b874ce60"
      },
      "source": [
        "#@title Default title text\n",
        "#dialog_str1 = \"\\u041A\\u0430\\u043A \\u0434\\u0435\\u043B\\u0430?\" #@param {type:\"string\"}\n",
        "while(True):\n",
        "  dialog_str1 = input('USER: ')\n",
        "  apiEndpoint({'userMessage': dialog_str1})\n",
        "# print(dialog_str1)\n"
      ],
      "execution_count": 27,
      "outputs": [
        {
          "output_type": "stream",
          "text": [
            "USER: Привет\n",
            "{'id': '123', 'worry': '', 'relationshipA': '', 'relationshipB': '', 'certainty': '', 'last': '', 'lastResponse': ''}\n",
            "ВОПРОС: Привет\n",
            "        Detected intent: Default Welcome Intent\n",
            "        Detected intent confidence: 1.0\n",
            "        Fulfillment text: Здравствуй!\n",
            "\n",
            "BOT: Здравствуй!\n",
            "USER: Как дела?\n",
            "{'id': '123', 'worry': '', 'relationshipA': '', 'relationshipB': '', 'certainty': '', 'last': '', 'lastResponse': ''}\n",
            "ВОПРОС: Как дела?\n",
            "        Detected intent: Default Fallback Intent\n",
            "        Detected intent confidence: 1.0\n",
            "        Fulfillment text: Вот сейчас я тебя совсем не понимаю.\n",
            "\n",
            "BOT: Вот сейчас я тебя совсем не понимаю.\n",
            "USER: Это то и раздражает\n",
            "{'id': '123', 'worry': '', 'relationshipA': '', 'relationshipB': '', 'certainty': '', 'last': '', 'lastResponse': ''}\n",
            "ВОПРОС: Это то и раздражает\n",
            "        Detected intent: Worry\n",
            "        Detected intent confidence: 0.7000908851623535\n",
            "        Fulfillment text: Что вас беспокоит?\n",
            "[E894] The 'noun_chunks' syntax iterator is not implemented for language 'ru'.\n",
            "doc is Это то и раздражает\n",
            "   Токены ['это', 'то', 'и', 'раздражает']\n",
            "    Найденные слова уверенности []\n",
            "ЗДЕСЬ РЕЗУЛЬТАТЯ понимаю что вы о чем-то беспокоитесь. Но почему вас это беспокоит?\n",
            "\n",
            "BOT: Я понимаю что вы о чем-то беспокоитесь. Но почему вас это беспокоит?\n",
            "USER: Потому что бот работает плохо\n",
            "{'id': '123', 'worry': '', 'relationshipA': '', 'relationshipB': '', 'certainty': '', 'last': '', 'lastResponse': ''}\n",
            "ВОПРОС: Потому что бот работает плохо\n",
            "        Detected intent: Default Fallback Intent\n",
            "        Detected intent confidence: 1.0\n",
            "        Fulfillment text: Вот эта последняя фраза мне не ясна.\n",
            "\n",
            "BOT: Вот эта последняя фраза мне не ясна.\n"
          ],
          "name": "stdout"
        },
        {
          "output_type": "error",
          "ename": "KeyboardInterrupt",
          "evalue": "ignored",
          "traceback": [
            "\u001b[0;31m---------------------------------------------------------------------------\u001b[0m",
            "\u001b[0;31mKeyboardInterrupt\u001b[0m                         Traceback (most recent call last)",
            "\u001b[0;32m/usr/local/lib/python3.7/dist-packages/ipykernel/kernelbase.py\u001b[0m in \u001b[0;36m_input_request\u001b[0;34m(self, prompt, ident, parent, password)\u001b[0m\n\u001b[1;32m    728\u001b[0m             \u001b[0;32mtry\u001b[0m\u001b[0;34m:\u001b[0m\u001b[0;34m\u001b[0m\u001b[0;34m\u001b[0m\u001b[0m\n\u001b[0;32m--> 729\u001b[0;31m                 \u001b[0mident\u001b[0m\u001b[0;34m,\u001b[0m \u001b[0mreply\u001b[0m \u001b[0;34m=\u001b[0m \u001b[0mself\u001b[0m\u001b[0;34m.\u001b[0m\u001b[0msession\u001b[0m\u001b[0;34m.\u001b[0m\u001b[0mrecv\u001b[0m\u001b[0;34m(\u001b[0m\u001b[0mself\u001b[0m\u001b[0;34m.\u001b[0m\u001b[0mstdin_socket\u001b[0m\u001b[0;34m,\u001b[0m \u001b[0;36m0\u001b[0m\u001b[0;34m)\u001b[0m\u001b[0;34m\u001b[0m\u001b[0;34m\u001b[0m\u001b[0m\n\u001b[0m\u001b[1;32m    730\u001b[0m             \u001b[0;32mexcept\u001b[0m \u001b[0mException\u001b[0m\u001b[0;34m:\u001b[0m\u001b[0;34m\u001b[0m\u001b[0;34m\u001b[0m\u001b[0m\n",
            "\u001b[0;32m/usr/local/lib/python3.7/dist-packages/jupyter_client/session.py\u001b[0m in \u001b[0;36mrecv\u001b[0;34m(self, socket, mode, content, copy)\u001b[0m\n\u001b[1;32m    802\u001b[0m         \u001b[0;32mtry\u001b[0m\u001b[0;34m:\u001b[0m\u001b[0;34m\u001b[0m\u001b[0;34m\u001b[0m\u001b[0m\n\u001b[0;32m--> 803\u001b[0;31m             \u001b[0mmsg_list\u001b[0m \u001b[0;34m=\u001b[0m \u001b[0msocket\u001b[0m\u001b[0;34m.\u001b[0m\u001b[0mrecv_multipart\u001b[0m\u001b[0;34m(\u001b[0m\u001b[0mmode\u001b[0m\u001b[0;34m,\u001b[0m \u001b[0mcopy\u001b[0m\u001b[0;34m=\u001b[0m\u001b[0mcopy\u001b[0m\u001b[0;34m)\u001b[0m\u001b[0;34m\u001b[0m\u001b[0;34m\u001b[0m\u001b[0m\n\u001b[0m\u001b[1;32m    804\u001b[0m         \u001b[0;32mexcept\u001b[0m \u001b[0mzmq\u001b[0m\u001b[0;34m.\u001b[0m\u001b[0mZMQError\u001b[0m \u001b[0;32mas\u001b[0m \u001b[0me\u001b[0m\u001b[0;34m:\u001b[0m\u001b[0;34m\u001b[0m\u001b[0;34m\u001b[0m\u001b[0m\n",
            "\u001b[0;32m/usr/local/lib/python3.7/dist-packages/zmq/sugar/socket.py\u001b[0m in \u001b[0;36mrecv_multipart\u001b[0;34m(self, flags, copy, track)\u001b[0m\n\u001b[1;32m    582\u001b[0m         \"\"\"\n\u001b[0;32m--> 583\u001b[0;31m         \u001b[0mparts\u001b[0m \u001b[0;34m=\u001b[0m \u001b[0;34m[\u001b[0m\u001b[0mself\u001b[0m\u001b[0;34m.\u001b[0m\u001b[0mrecv\u001b[0m\u001b[0;34m(\u001b[0m\u001b[0mflags\u001b[0m\u001b[0;34m,\u001b[0m \u001b[0mcopy\u001b[0m\u001b[0;34m=\u001b[0m\u001b[0mcopy\u001b[0m\u001b[0;34m,\u001b[0m \u001b[0mtrack\u001b[0m\u001b[0;34m=\u001b[0m\u001b[0mtrack\u001b[0m\u001b[0;34m)\u001b[0m\u001b[0;34m]\u001b[0m\u001b[0;34m\u001b[0m\u001b[0;34m\u001b[0m\u001b[0m\n\u001b[0m\u001b[1;32m    584\u001b[0m         \u001b[0;31m# have first part already, only loop while more to receive\u001b[0m\u001b[0;34m\u001b[0m\u001b[0;34m\u001b[0m\u001b[0;34m\u001b[0m\u001b[0m\n",
            "\u001b[0;32mzmq/backend/cython/socket.pyx\u001b[0m in \u001b[0;36mzmq.backend.cython.socket.Socket.recv\u001b[0;34m()\u001b[0m\n",
            "\u001b[0;32mzmq/backend/cython/socket.pyx\u001b[0m in \u001b[0;36mzmq.backend.cython.socket.Socket.recv\u001b[0;34m()\u001b[0m\n",
            "\u001b[0;32mzmq/backend/cython/socket.pyx\u001b[0m in \u001b[0;36mzmq.backend.cython.socket._recv_copy\u001b[0;34m()\u001b[0m\n",
            "\u001b[0;32m/usr/local/lib/python3.7/dist-packages/zmq/backend/cython/checkrc.pxd\u001b[0m in \u001b[0;36mzmq.backend.cython.checkrc._check_rc\u001b[0;34m()\u001b[0m\n",
            "\u001b[0;31mKeyboardInterrupt\u001b[0m: ",
            "\nDuring handling of the above exception, another exception occurred:\n",
            "\u001b[0;31mKeyboardInterrupt\u001b[0m                         Traceback (most recent call last)",
            "\u001b[0;32m<ipython-input-27-d5662d823976>\u001b[0m in \u001b[0;36m<module>\u001b[0;34m()\u001b[0m\n\u001b[1;32m      2\u001b[0m \u001b[0;31m#dialog_str1 = \"\\u041A\\u0430\\u043A \\u0434\\u0435\\u043B\\u0430?\" #@param {type:\"string\"}\u001b[0m\u001b[0;34m\u001b[0m\u001b[0;34m\u001b[0m\u001b[0;34m\u001b[0m\u001b[0m\n\u001b[1;32m      3\u001b[0m \u001b[0;32mwhile\u001b[0m\u001b[0;34m(\u001b[0m\u001b[0;32mTrue\u001b[0m\u001b[0;34m)\u001b[0m\u001b[0;34m:\u001b[0m\u001b[0;34m\u001b[0m\u001b[0;34m\u001b[0m\u001b[0m\n\u001b[0;32m----> 4\u001b[0;31m   \u001b[0mdialog_str1\u001b[0m \u001b[0;34m=\u001b[0m \u001b[0minput\u001b[0m\u001b[0;34m(\u001b[0m\u001b[0;34m'USER: '\u001b[0m\u001b[0;34m)\u001b[0m\u001b[0;34m\u001b[0m\u001b[0;34m\u001b[0m\u001b[0m\n\u001b[0m\u001b[1;32m      5\u001b[0m   \u001b[0mapiEndpoint\u001b[0m\u001b[0;34m(\u001b[0m\u001b[0;34m{\u001b[0m\u001b[0;34m'userMessage'\u001b[0m\u001b[0;34m:\u001b[0m \u001b[0mdialog_str1\u001b[0m\u001b[0;34m}\u001b[0m\u001b[0;34m)\u001b[0m\u001b[0;34m\u001b[0m\u001b[0;34m\u001b[0m\u001b[0m\n\u001b[1;32m      6\u001b[0m \u001b[0;31m# print(dialog_str1)\u001b[0m\u001b[0;34m\u001b[0m\u001b[0;34m\u001b[0m\u001b[0;34m\u001b[0m\u001b[0m\n",
            "\u001b[0;32m/usr/local/lib/python3.7/dist-packages/ipykernel/kernelbase.py\u001b[0m in \u001b[0;36mraw_input\u001b[0;34m(self, prompt)\u001b[0m\n\u001b[1;32m    702\u001b[0m             \u001b[0mself\u001b[0m\u001b[0;34m.\u001b[0m\u001b[0m_parent_ident\u001b[0m\u001b[0;34m,\u001b[0m\u001b[0;34m\u001b[0m\u001b[0;34m\u001b[0m\u001b[0m\n\u001b[1;32m    703\u001b[0m             \u001b[0mself\u001b[0m\u001b[0;34m.\u001b[0m\u001b[0m_parent_header\u001b[0m\u001b[0;34m,\u001b[0m\u001b[0;34m\u001b[0m\u001b[0;34m\u001b[0m\u001b[0m\n\u001b[0;32m--> 704\u001b[0;31m             \u001b[0mpassword\u001b[0m\u001b[0;34m=\u001b[0m\u001b[0;32mFalse\u001b[0m\u001b[0;34m,\u001b[0m\u001b[0;34m\u001b[0m\u001b[0;34m\u001b[0m\u001b[0m\n\u001b[0m\u001b[1;32m    705\u001b[0m         )\n\u001b[1;32m    706\u001b[0m \u001b[0;34m\u001b[0m\u001b[0m\n",
            "\u001b[0;32m/usr/local/lib/python3.7/dist-packages/ipykernel/kernelbase.py\u001b[0m in \u001b[0;36m_input_request\u001b[0;34m(self, prompt, ident, parent, password)\u001b[0m\n\u001b[1;32m    732\u001b[0m             \u001b[0;32mexcept\u001b[0m \u001b[0mKeyboardInterrupt\u001b[0m\u001b[0;34m:\u001b[0m\u001b[0;34m\u001b[0m\u001b[0;34m\u001b[0m\u001b[0m\n\u001b[1;32m    733\u001b[0m                 \u001b[0;31m# re-raise KeyboardInterrupt, to truncate traceback\u001b[0m\u001b[0;34m\u001b[0m\u001b[0;34m\u001b[0m\u001b[0;34m\u001b[0m\u001b[0m\n\u001b[0;32m--> 734\u001b[0;31m                 \u001b[0;32mraise\u001b[0m \u001b[0mKeyboardInterrupt\u001b[0m\u001b[0;34m\u001b[0m\u001b[0;34m\u001b[0m\u001b[0m\n\u001b[0m\u001b[1;32m    735\u001b[0m             \u001b[0;32melse\u001b[0m\u001b[0;34m:\u001b[0m\u001b[0;34m\u001b[0m\u001b[0;34m\u001b[0m\u001b[0m\n\u001b[1;32m    736\u001b[0m                 \u001b[0;32mbreak\u001b[0m\u001b[0;34m\u001b[0m\u001b[0;34m\u001b[0m\u001b[0m\n",
            "\u001b[0;31mKeyboardInterrupt\u001b[0m: "
          ]
        }
      ]
    }
  ]
}
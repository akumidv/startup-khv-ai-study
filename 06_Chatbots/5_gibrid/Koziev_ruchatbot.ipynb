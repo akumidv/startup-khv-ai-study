{
  "nbformat": 4,
  "nbformat_minor": 0,
  "metadata": {
    "colab": {
      "name": "Koziev_ruchatbot.ipynb",
      "provenance": [],
      "collapsed_sections": [],
      "toc_visible": true
    },
    "kernelspec": {
      "name": "python3",
      "display_name": "Python 3"
    }
  },
  "cells": [
    {
      "cell_type": "markdown",
      "metadata": {
        "id": "CmsPaMmPbr48"
      },
      "source": [
        "# Описание\n",
        "Источник: https://github.com/Koziev/chatbot\n",
        "\n"
      ]
    },
    {
      "cell_type": "code",
      "metadata": {
        "colab": {
          "base_uri": "https://localhost:8080/"
        },
        "id": "9Koik_wxYLsA",
        "outputId": "4958c6f3-d8be-436c-a38f-1aac9064cdc2"
      },
      "source": [
        "!pip install git+https://github.com/Koziev/rulemma\n",
        "!pip uninstall -y numpy\n",
        "!apt-get -y install python-numpy"
      ],
      "execution_count": 1,
      "outputs": [
        {
          "output_type": "stream",
          "text": [
            "Collecting git+https://github.com/Koziev/rulemma\n",
            "  Cloning https://github.com/Koziev/rulemma to /tmp/pip-req-build-h7qou9qq\n",
            "  Running command git clone -q https://github.com/Koziev/rulemma /tmp/pip-req-build-h7qou9qq\n",
            "Building wheels for collected packages: rulemma\n",
            "  Building wheel for rulemma (setup.py) ... \u001b[?25l\u001b[?25hdone\n",
            "  Created wheel for rulemma: filename=rulemma-0.0.44-cp37-none-any.whl size=16113695 sha256=6ec4d59d512e37b808974f3718596aeb2bc87f73f7ce78b283c34fd46c862c54\n",
            "  Stored in directory: /tmp/pip-ephem-wheel-cache-beapfvq1/wheels/0b/3e/8d/0d71505e01d3f89933367910f55a366582d10c09210ecb6a4d\n",
            "Successfully built rulemma\n",
            "Installing collected packages: rulemma\n",
            "Successfully installed rulemma-0.0.44\n",
            "Uninstalling numpy-1.19.5:\n",
            "  Successfully uninstalled numpy-1.19.5\n",
            "Reading package lists... Done\n",
            "Building dependency tree       \n",
            "Reading state information... Done\n",
            "python-numpy is already the newest version (1:1.13.3-2ubuntu1).\n",
            "python-numpy set to manually installed.\n",
            "0 upgraded, 0 newly installed, 0 to remove and 39 not upgraded.\n"
          ],
          "name": "stdout"
        }
      ]
    },
    {
      "cell_type": "code",
      "metadata": {
        "id": "9KmHwJqptSnO",
        "colab": {
          "base_uri": "https://localhost:8080/",
          "height": 1000
        },
        "outputId": "efe0b5fe-48fa-4275-8223-0782f4aeb6bc"
      },
      "source": [
        "!pip install sentencepiece lightgbm keras==2.4.3 scikit-learn==0.24.0 gensim pathlib python-crfsuite tensorflow==2.3.1 colorama coloredlogs requests h5py==2.10.0 pyconll ufal.udpipe #numpy\n",
        "!pip install git+https://www.github.com/keras-team/keras-contrib.git\n",
        "!pip install git+https://github.com/Koziev/rutokenizer\n",
        "!pip install git+https://github.com/Koziev/rupostagger\n",
        "!pip install git+https://github.com/Koziev/rusyllab\n",
        "!pip install git+https://github.com/Koziev/ruchunker\n",
        "# НАДО ПЕРЕЗАЗАГРУЗИТЬ РАНТАЙМ"
      ],
      "execution_count": 2,
      "outputs": [
        {
          "output_type": "stream",
          "text": [
            "Collecting sentencepiece\n",
            "\u001b[?25l  Downloading https://files.pythonhosted.org/packages/f5/99/e0808cb947ba10f575839c43e8fafc9cc44e4a7a2c8f79c60db48220a577/sentencepiece-0.1.95-cp37-cp37m-manylinux2014_x86_64.whl (1.2MB)\n",
            "\u001b[K     |████████████████████████████████| 1.2MB 6.6MB/s \n",
            "\u001b[?25hRequirement already satisfied: lightgbm in /usr/local/lib/python3.7/dist-packages (2.2.3)\n",
            "Requirement already satisfied: keras==2.4.3 in /usr/local/lib/python3.7/dist-packages (2.4.3)\n",
            "Collecting scikit-learn==0.24.0\n",
            "\u001b[?25l  Downloading https://files.pythonhosted.org/packages/b1/ed/ab51a8da34d2b3f4524b21093081e7f9e2ddf1c9eac9f795dcf68ad0a57d/scikit_learn-0.24.0-cp37-cp37m-manylinux2010_x86_64.whl (22.3MB)\n",
            "\u001b[K     |████████████████████████████████| 22.3MB 1.3MB/s \n",
            "\u001b[?25hRequirement already satisfied: gensim in /usr/local/lib/python3.7/dist-packages (3.6.0)\n",
            "Requirement already satisfied: pathlib in /usr/local/lib/python3.7/dist-packages (1.0.1)\n",
            "Collecting python-crfsuite\n",
            "\u001b[?25l  Downloading https://files.pythonhosted.org/packages/79/47/58f16c46506139f17de4630dbcfb877ce41a6355a1bbf3c443edb9708429/python_crfsuite-0.9.7-cp37-cp37m-manylinux1_x86_64.whl (743kB)\n",
            "\u001b[K     |████████████████████████████████| 747kB 17.8MB/s \n",
            "\u001b[?25hCollecting tensorflow==2.3.1\n",
            "\u001b[?25l  Downloading https://files.pythonhosted.org/packages/eb/18/374af421dfbe74379a458e58ab40cf46b35c3206ce8e183e28c1c627494d/tensorflow-2.3.1-cp37-cp37m-manylinux2010_x86_64.whl (320.4MB)\n",
            "\u001b[K     |████████████████████████████████| 320.4MB 45kB/s \n",
            "\u001b[?25hCollecting colorama\n",
            "  Downloading https://files.pythonhosted.org/packages/44/98/5b86278fbbf250d239ae0ecb724f8572af1c91f4a11edf4d36a206189440/colorama-0.4.4-py2.py3-none-any.whl\n",
            "Collecting coloredlogs\n",
            "\u001b[?25l  Downloading https://files.pythonhosted.org/packages/84/a6/837dbf6eac344cb74f0ba86b79e8180855570af3e26bcb1ea5f650cf944c/coloredlogs-15.0-py2.py3-none-any.whl (45kB)\n",
            "\u001b[K     |████████████████████████████████| 51kB 6.9MB/s \n",
            "\u001b[?25hRequirement already satisfied: requests in /usr/local/lib/python3.7/dist-packages (2.23.0)\n",
            "Collecting h5py==2.10.0\n",
            "\u001b[?25l  Downloading https://files.pythonhosted.org/packages/3f/c0/abde58b837e066bca19a3f7332d9d0493521d7dd6b48248451a9e3fe2214/h5py-2.10.0-cp37-cp37m-manylinux1_x86_64.whl (2.9MB)\n",
            "\u001b[K     |████████████████████████████████| 2.9MB 31.8MB/s \n",
            "\u001b[?25hCollecting pyconll\n",
            "  Downloading https://files.pythonhosted.org/packages/0a/4c/edf12b4b211f8a0f7f85a52ed4b50cd453ac96e9b751427e0296eb7ae42a/pyconll-3.1.0-py3-none-any.whl\n",
            "Collecting ufal.udpipe\n",
            "\u001b[?25l  Downloading https://files.pythonhosted.org/packages/e5/72/2b8b9dc7c80017c790bb3308bbad34b57accfed2ac2f1f4ab252ff4e9cb2/ufal.udpipe-1.2.0.3.tar.gz (304kB)\n",
            "\u001b[K     |████████████████████████████████| 307kB 47.1MB/s \n",
            "\u001b[?25hCollecting numpy\n",
            "\u001b[?25l  Downloading https://files.pythonhosted.org/packages/a5/42/560d269f604d3e186a57c21a363e77e199358d054884e61b73e405dd217c/numpy-1.20.3-cp37-cp37m-manylinux_2_12_x86_64.manylinux2010_x86_64.whl (15.3MB)\n",
            "\u001b[K     |████████████████████████████████| 15.3MB 364kB/s \n",
            "\u001b[?25hRequirement already satisfied: scipy in /usr/local/lib/python3.7/dist-packages (from lightgbm) (1.4.1)\n",
            "Requirement already satisfied: pyyaml in /usr/local/lib/python3.7/dist-packages (from keras==2.4.3) (3.13)\n",
            "Requirement already satisfied: joblib>=0.11 in /usr/local/lib/python3.7/dist-packages (from scikit-learn==0.24.0) (1.0.1)\n",
            "Collecting threadpoolctl>=2.0.0\n",
            "  Downloading https://files.pythonhosted.org/packages/f7/12/ec3f2e203afa394a149911729357aa48affc59c20e2c1c8297a60f33f133/threadpoolctl-2.1.0-py3-none-any.whl\n",
            "Requirement already satisfied: six>=1.5.0 in /usr/local/lib/python3.7/dist-packages (from gensim) (1.15.0)\n",
            "Requirement already satisfied: smart-open>=1.2.1 in /usr/local/lib/python3.7/dist-packages (from gensim) (5.0.0)\n",
            "Requirement already satisfied: opt-einsum>=2.3.2 in /usr/local/lib/python3.7/dist-packages (from tensorflow==2.3.1) (3.3.0)\n",
            "Requirement already satisfied: google-pasta>=0.1.8 in /usr/local/lib/python3.7/dist-packages (from tensorflow==2.3.1) (0.2.0)\n",
            "Requirement already satisfied: astunparse==1.6.3 in /usr/local/lib/python3.7/dist-packages (from tensorflow==2.3.1) (1.6.3)\n",
            "Requirement already satisfied: keras-preprocessing<1.2,>=1.1.1 in /usr/local/lib/python3.7/dist-packages (from tensorflow==2.3.1) (1.1.2)\n",
            "Collecting tensorflow-estimator<2.4.0,>=2.3.0\n",
            "\u001b[?25l  Downloading https://files.pythonhosted.org/packages/e9/ed/5853ec0ae380cba4588eab1524e18ece1583b65f7ae0e97321f5ff9dfd60/tensorflow_estimator-2.3.0-py2.py3-none-any.whl (459kB)\n",
            "\u001b[K     |████████████████████████████████| 460kB 43.3MB/s \n",
            "\u001b[?25hRequirement already satisfied: termcolor>=1.1.0 in /usr/local/lib/python3.7/dist-packages (from tensorflow==2.3.1) (1.1.0)\n",
            "Requirement already satisfied: tensorboard<3,>=2.3.0 in /usr/local/lib/python3.7/dist-packages (from tensorflow==2.3.1) (2.5.0)\n",
            "Requirement already satisfied: protobuf>=3.9.2 in /usr/local/lib/python3.7/dist-packages (from tensorflow==2.3.1) (3.12.4)\n",
            "Requirement already satisfied: grpcio>=1.8.6 in /usr/local/lib/python3.7/dist-packages (from tensorflow==2.3.1) (1.34.1)\n",
            "Requirement already satisfied: wheel>=0.26 in /usr/local/lib/python3.7/dist-packages (from tensorflow==2.3.1) (0.36.2)\n",
            "Requirement already satisfied: absl-py>=0.7.0 in /usr/local/lib/python3.7/dist-packages (from tensorflow==2.3.1) (0.12.0)\n",
            "Requirement already satisfied: wrapt>=1.11.1 in /usr/local/lib/python3.7/dist-packages (from tensorflow==2.3.1) (1.12.1)\n",
            "Collecting gast==0.3.3\n",
            "  Downloading https://files.pythonhosted.org/packages/d6/84/759f5dd23fec8ba71952d97bcc7e2c9d7d63bdc582421f3cd4be845f0c98/gast-0.3.3-py2.py3-none-any.whl\n",
            "Collecting humanfriendly>=9.1\n",
            "\u001b[?25l  Downloading https://files.pythonhosted.org/packages/93/66/363d01a81da2108a5cf446daf619779f06d49a0c4426dd02b40734f10e2f/humanfriendly-9.1-py2.py3-none-any.whl (86kB)\n",
            "\u001b[K     |████████████████████████████████| 92kB 10.5MB/s \n",
            "\u001b[?25hRequirement already satisfied: chardet<4,>=3.0.2 in /usr/local/lib/python3.7/dist-packages (from requests) (3.0.4)\n",
            "Requirement already satisfied: idna<3,>=2.5 in /usr/local/lib/python3.7/dist-packages (from requests) (2.10)\n",
            "Requirement already satisfied: urllib3!=1.25.0,!=1.25.1,<1.26,>=1.21.1 in /usr/local/lib/python3.7/dist-packages (from requests) (1.24.3)\n",
            "Requirement already satisfied: certifi>=2017.4.17 in /usr/local/lib/python3.7/dist-packages (from requests) (2020.12.5)\n",
            "Requirement already satisfied: setuptools>=41.0.0 in /usr/local/lib/python3.7/dist-packages (from tensorboard<3,>=2.3.0->tensorflow==2.3.1) (57.0.0)\n",
            "Requirement already satisfied: werkzeug>=0.11.15 in /usr/local/lib/python3.7/dist-packages (from tensorboard<3,>=2.3.0->tensorflow==2.3.1) (1.0.1)\n",
            "Requirement already satisfied: google-auth-oauthlib<0.5,>=0.4.1 in /usr/local/lib/python3.7/dist-packages (from tensorboard<3,>=2.3.0->tensorflow==2.3.1) (0.4.4)\n",
            "Requirement already satisfied: tensorboard-data-server<0.7.0,>=0.6.0 in /usr/local/lib/python3.7/dist-packages (from tensorboard<3,>=2.3.0->tensorflow==2.3.1) (0.6.1)\n",
            "Requirement already satisfied: google-auth<2,>=1.6.3 in /usr/local/lib/python3.7/dist-packages (from tensorboard<3,>=2.3.0->tensorflow==2.3.1) (1.30.0)\n",
            "Requirement already satisfied: markdown>=2.6.8 in /usr/local/lib/python3.7/dist-packages (from tensorboard<3,>=2.3.0->tensorflow==2.3.1) (3.3.4)\n",
            "Requirement already satisfied: tensorboard-plugin-wit>=1.6.0 in /usr/local/lib/python3.7/dist-packages (from tensorboard<3,>=2.3.0->tensorflow==2.3.1) (1.8.0)\n",
            "Requirement already satisfied: requests-oauthlib>=0.7.0 in /usr/local/lib/python3.7/dist-packages (from google-auth-oauthlib<0.5,>=0.4.1->tensorboard<3,>=2.3.0->tensorflow==2.3.1) (1.3.0)\n",
            "Requirement already satisfied: pyasn1-modules>=0.2.1 in /usr/local/lib/python3.7/dist-packages (from google-auth<2,>=1.6.3->tensorboard<3,>=2.3.0->tensorflow==2.3.1) (0.2.8)\n",
            "Requirement already satisfied: cachetools<5.0,>=2.0.0 in /usr/local/lib/python3.7/dist-packages (from google-auth<2,>=1.6.3->tensorboard<3,>=2.3.0->tensorflow==2.3.1) (4.2.2)\n",
            "Requirement already satisfied: rsa<5,>=3.1.4; python_version >= \"3.6\" in /usr/local/lib/python3.7/dist-packages (from google-auth<2,>=1.6.3->tensorboard<3,>=2.3.0->tensorflow==2.3.1) (4.7.2)\n",
            "Requirement already satisfied: importlib-metadata; python_version < \"3.8\" in /usr/local/lib/python3.7/dist-packages (from markdown>=2.6.8->tensorboard<3,>=2.3.0->tensorflow==2.3.1) (4.0.1)\n",
            "Requirement already satisfied: oauthlib>=3.0.0 in /usr/local/lib/python3.7/dist-packages (from requests-oauthlib>=0.7.0->google-auth-oauthlib<0.5,>=0.4.1->tensorboard<3,>=2.3.0->tensorflow==2.3.1) (3.1.0)\n",
            "Requirement already satisfied: pyasn1<0.5.0,>=0.4.6 in /usr/local/lib/python3.7/dist-packages (from pyasn1-modules>=0.2.1->google-auth<2,>=1.6.3->tensorboard<3,>=2.3.0->tensorflow==2.3.1) (0.4.8)\n",
            "Requirement already satisfied: typing-extensions>=3.6.4; python_version < \"3.8\" in /usr/local/lib/python3.7/dist-packages (from importlib-metadata; python_version < \"3.8\"->markdown>=2.6.8->tensorboard<3,>=2.3.0->tensorflow==2.3.1) (3.7.4.3)\n",
            "Requirement already satisfied: zipp>=0.5 in /usr/local/lib/python3.7/dist-packages (from importlib-metadata; python_version < \"3.8\"->markdown>=2.6.8->tensorboard<3,>=2.3.0->tensorflow==2.3.1) (3.4.1)\n",
            "Building wheels for collected packages: ufal.udpipe\n",
            "  Building wheel for ufal.udpipe (setup.py) ... \u001b[?25l\u001b[?25hdone\n",
            "  Created wheel for ufal.udpipe: filename=ufal.udpipe-1.2.0.3-cp37-cp37m-linux_x86_64.whl size=5626645 sha256=8faa66d5c4b3cb4e76d952e9379edd1157505fa4ef16d39d154fbe3608332593\n",
            "  Stored in directory: /root/.cache/pip/wheels/0c/9d/db/6d3404c33da5b7adb6c6972853efb6a27649d3ba15f7e9bebb\n",
            "Successfully built ufal.udpipe\n",
            "\u001b[31mERROR: tensorflow 2.3.1 has requirement numpy<1.19.0,>=1.16.0, but you'll have numpy 1.20.3 which is incompatible.\u001b[0m\n",
            "\u001b[31mERROR: datascience 0.10.6 has requirement folium==0.2.1, but you'll have folium 0.8.3 which is incompatible.\u001b[0m\n",
            "\u001b[31mERROR: albumentations 0.1.12 has requirement imgaug<0.2.7,>=0.2.5, but you'll have imgaug 0.2.9 which is incompatible.\u001b[0m\n",
            "Installing collected packages: sentencepiece, numpy, threadpoolctl, scikit-learn, python-crfsuite, h5py, tensorflow-estimator, gast, tensorflow, colorama, humanfriendly, coloredlogs, pyconll, ufal.udpipe\n",
            "  Found existing installation: scikit-learn 0.22.2.post1\n",
            "    Uninstalling scikit-learn-0.22.2.post1:\n",
            "      Successfully uninstalled scikit-learn-0.22.2.post1\n",
            "  Found existing installation: h5py 3.1.0\n",
            "    Uninstalling h5py-3.1.0:\n",
            "      Successfully uninstalled h5py-3.1.0\n",
            "  Found existing installation: tensorflow-estimator 2.5.0\n",
            "    Uninstalling tensorflow-estimator-2.5.0:\n",
            "      Successfully uninstalled tensorflow-estimator-2.5.0\n",
            "  Found existing installation: gast 0.4.0\n",
            "    Uninstalling gast-0.4.0:\n",
            "      Successfully uninstalled gast-0.4.0\n",
            "  Found existing installation: tensorflow 2.5.0\n",
            "    Uninstalling tensorflow-2.5.0:\n",
            "      Successfully uninstalled tensorflow-2.5.0\n",
            "Successfully installed colorama-0.4.4 coloredlogs-15.0 gast-0.3.3 h5py-2.10.0 humanfriendly-9.1 numpy-1.20.3 pyconll-3.1.0 python-crfsuite-0.9.7 scikit-learn-0.24.0 sentencepiece-0.1.95 tensorflow-2.3.1 tensorflow-estimator-2.3.0 threadpoolctl-2.1.0 ufal.udpipe-1.2.0.3\n"
          ],
          "name": "stdout"
        },
        {
          "output_type": "display_data",
          "data": {
            "application/vnd.colab-display-data+json": {
              "pip_warning": {
                "packages": [
                  "numpy"
                ]
              }
            }
          },
          "metadata": {
            "tags": []
          }
        },
        {
          "output_type": "stream",
          "text": [
            "Collecting git+https://www.github.com/keras-team/keras-contrib.git\n",
            "  Cloning https://www.github.com/keras-team/keras-contrib.git to /tmp/pip-req-build-h03jj4kw\n",
            "  Running command git clone -q https://www.github.com/keras-team/keras-contrib.git /tmp/pip-req-build-h03jj4kw\n",
            "Requirement already satisfied: keras in /usr/local/lib/python3.7/dist-packages (from keras-contrib==2.0.8) (2.4.3)\n",
            "Requirement already satisfied: scipy>=0.14 in /usr/local/lib/python3.7/dist-packages (from keras->keras-contrib==2.0.8) (1.4.1)\n",
            "Requirement already satisfied: h5py in /usr/local/lib/python3.7/dist-packages (from keras->keras-contrib==2.0.8) (2.10.0)\n",
            "Requirement already satisfied: pyyaml in /usr/local/lib/python3.7/dist-packages (from keras->keras-contrib==2.0.8) (3.13)\n",
            "Requirement already satisfied: numpy>=1.9.1 in /usr/local/lib/python3.7/dist-packages (from keras->keras-contrib==2.0.8) (1.20.3)\n",
            "Requirement already satisfied: six in /usr/local/lib/python3.7/dist-packages (from h5py->keras->keras-contrib==2.0.8) (1.15.0)\n",
            "Building wheels for collected packages: keras-contrib\n",
            "  Building wheel for keras-contrib (setup.py) ... \u001b[?25l\u001b[?25hdone\n",
            "  Created wheel for keras-contrib: filename=keras_contrib-2.0.8-cp37-none-any.whl size=101078 sha256=a407f7c6da722b16cfefd5ac324a15e7acbca5434b01cbccf31b562ccc4dbcdf\n",
            "  Stored in directory: /tmp/pip-ephem-wheel-cache-wo8lluvc/wheels/11/27/c8/4ed56de7b55f4f61244e2dc6ef3cdbaff2692527a2ce6502ba\n",
            "Successfully built keras-contrib\n",
            "Installing collected packages: keras-contrib\n",
            "Successfully installed keras-contrib-2.0.8\n",
            "Collecting git+https://github.com/Koziev/rutokenizer\n",
            "  Cloning https://github.com/Koziev/rutokenizer to /tmp/pip-req-build-snzwqqu1\n",
            "  Running command git clone -q https://github.com/Koziev/rutokenizer /tmp/pip-req-build-snzwqqu1\n",
            "Building wheels for collected packages: rutokenizer\n",
            "  Building wheel for rutokenizer (setup.py) ... \u001b[?25l\u001b[?25hdone\n",
            "  Created wheel for rutokenizer: filename=rutokenizer-0.0.24-cp37-none-any.whl size=30370096 sha256=42b4748b665306ef2e552f02fb3807beab66a4b263061310aecd98f9dbee5984\n",
            "  Stored in directory: /tmp/pip-ephem-wheel-cache-hsrtshqu/wheels/a6/66/ef/7c52e143b099c8aeaaf3bccc4640c065b87d7cbfb13066005d\n",
            "Successfully built rutokenizer\n",
            "Installing collected packages: rutokenizer\n",
            "Successfully installed rutokenizer-0.0.24\n",
            "Collecting git+https://github.com/Koziev/rupostagger\n",
            "  Cloning https://github.com/Koziev/rupostagger to /tmp/pip-req-build-56b0hl17\n",
            "  Running command git clone -q https://github.com/Koziev/rupostagger /tmp/pip-req-build-56b0hl17\n",
            "Building wheels for collected packages: rupostagger\n",
            "  Building wheel for rupostagger (setup.py) ... \u001b[?25l\u001b[?25hdone\n",
            "  Created wheel for rupostagger: filename=rupostagger-0.0.76-cp37-none-any.whl size=1238234 sha256=7b6be8fefc620ea0cf6234e660762e1527e4b2cd8a70aad7171a164206a73bde\n",
            "  Stored in directory: /tmp/pip-ephem-wheel-cache-7uvuhpja/wheels/ef/af/fd/97bf178e7a272d91911645ac5ce7d7ad9c05d7cf77b8af7397\n",
            "Successfully built rupostagger\n",
            "Installing collected packages: rupostagger\n",
            "Successfully installed rupostagger-0.0.76\n",
            "Collecting git+https://github.com/Koziev/rusyllab\n",
            "  Cloning https://github.com/Koziev/rusyllab to /tmp/pip-req-build-2pmrx2nz\n",
            "  Running command git clone -q https://github.com/Koziev/rusyllab /tmp/pip-req-build-2pmrx2nz\n",
            "Building wheels for collected packages: rusyllab\n",
            "  Building wheel for rusyllab (setup.py) ... \u001b[?25l\u001b[?25hdone\n",
            "  Created wheel for rusyllab: filename=rusyllab-0.0.4-cp37-none-any.whl size=16034 sha256=a8bfc93d8555a82edfdabfa7a32ba7464f2a67aa7bb8b880323c50e3db601eb0\n",
            "  Stored in directory: /tmp/pip-ephem-wheel-cache-t_8n65d5/wheels/8b/27/a3/97cd3d0f3b259770709f14d7cb93428bbce8883028f4476b5b\n",
            "Successfully built rusyllab\n",
            "Installing collected packages: rusyllab\n",
            "Successfully installed rusyllab-0.0.4\n",
            "Collecting git+https://github.com/Koziev/ruchunker\n",
            "  Cloning https://github.com/Koziev/ruchunker to /tmp/pip-req-build-bcbsyi54\n",
            "  Running command git clone -q https://github.com/Koziev/ruchunker /tmp/pip-req-build-bcbsyi54\n",
            "Building wheels for collected packages: ruchunker\n",
            "  Building wheel for ruchunker (setup.py) ... \u001b[?25l\u001b[?25hdone\n",
            "  Created wheel for ruchunker: filename=ruchunker-0.0.12-cp37-none-any.whl size=994321 sha256=70fd766f0107b47449710b39201d1b9385ec6ced905c4584d82bf7f23d59ede8\n",
            "  Stored in directory: /tmp/pip-ephem-wheel-cache-b9yki35w/wheels/41/86/95/6df53f260362c45b50b3e9d8a4767b7d17b81cc073973deb31\n",
            "Successfully built ruchunker\n",
            "Installing collected packages: ruchunker\n",
            "Successfully installed ruchunker-0.0.12\n"
          ],
          "name": "stdout"
        }
      ]
    },
    {
      "cell_type": "code",
      "metadata": {
        "colab": {
          "base_uri": "https://localhost:8080/"
        },
        "id": "d23lQcuYVrlx",
        "outputId": "29e25f7c-76f2-4efe-c99a-c20271a24f20"
      },
      "source": [
        "!git clone https://github.com/Koziev/ruword2tags.git\n",
        "!gdown --id 1xlL8ijnwE6tAPpsil7Q1yWkXY4mn2YCd\n",
        "!cp ruword2tags.db /content/ruword2tags/ruword2tags.db\n",
        "!pip install /content/ruword2tags"
      ],
      "execution_count": 1,
      "outputs": [
        {
          "output_type": "stream",
          "text": [
            "Cloning into 'ruword2tags'...\n",
            "remote: Enumerating objects: 230, done.\u001b[K\n",
            "remote: Counting objects: 100% (35/35), done.\u001b[K\n",
            "remote: Compressing objects: 100% (27/27), done.\u001b[K\n",
            "remote: Total 230 (delta 15), reused 27 (delta 8), pack-reused 195\u001b[K\n",
            "Receiving objects: 100% (230/230), 1.20 GiB | 35.75 MiB/s, done.\n",
            "Resolving deltas: 100% (114/114), done.\n",
            "Downloading...\n",
            "From: https://drive.google.com/uc?id=1xlL8ijnwE6tAPpsil7Q1yWkXY4mn2YCd\n",
            "To: /content/ruword2tags.db\n",
            "185MB [00:01, 115MB/s]\n",
            "Processing ./ruword2tags\n",
            "Building wheels for collected packages: ruword2tags\n",
            "  Building wheel for ruword2tags (setup.py) ... \u001b[?25l\u001b[?25hdone\n",
            "  Created wheel for ruword2tags: filename=ruword2tags-0.0.52-cp37-none-any.whl size=40146769 sha256=d121740e072b514478665c9cf60197a86da231327b6d7114736c7e09880a661d\n",
            "  Stored in directory: /tmp/pip-ephem-wheel-cache-ef5dccdk/wheels/c2/28/0a/0f6d7254cb3ec3eab4f43145674086f734ac53356c09c6efd3\n",
            "Successfully built ruword2tags\n",
            "Installing collected packages: ruword2tags\n",
            "Successfully installed ruword2tags-0.0.52\n"
          ],
          "name": "stdout"
        }
      ]
    },
    {
      "cell_type": "code",
      "metadata": {
        "id": "uPChL9u7X4aM",
        "colab": {
          "base_uri": "https://localhost:8080/"
        },
        "outputId": "587ecb48-cfe7-41a5-d8e3-5108d5de62e0"
      },
      "source": [
        "!git clone https://github.com/Koziev/chatbot.git"
      ],
      "execution_count": 2,
      "outputs": [
        {
          "output_type": "stream",
          "text": [
            "Cloning into 'chatbot'...\n",
            "remote: Enumerating objects: 3987, done.\u001b[K\n",
            "remote: Counting objects: 100% (1173/1173), done.\u001b[K\n",
            "remote: Compressing objects: 100% (650/650), done.\u001b[K\n",
            "remote: Total 3987 (delta 847), reused 805 (delta 515), pack-reused 2814\u001b[K\n",
            "Receiving objects: 100% (3987/3987), 1.73 GiB | 31.15 MiB/s, done.\n",
            "Resolving deltas: 100% (2676/2676), done.\n"
          ],
          "name": "stdout"
        }
      ]
    },
    {
      "cell_type": "code",
      "metadata": {
        "id": "5jVW9Ad_s-mk"
      },
      "source": [
        "import os\n",
        "import sys\n",
        "\n",
        "sys.path.append('/content/chatbot/ruchatbot')"
      ],
      "execution_count": 3,
      "outputs": []
    },
    {
      "cell_type": "code",
      "metadata": {
        "id": "oc4kpK5OY6pr",
        "colab": {
          "base_uri": "https://localhost:8080/"
        },
        "outputId": "e520f4f7-5c86-44fb-8050-d463bb97b522"
      },
      "source": [
        "%cd /content/chatbot/scripts\n",
        "%ls"
      ],
      "execution_count": 8,
      "outputs": [
        {
          "output_type": "stream",
          "text": [
            "/content/chatbot/scripts\n",
            "\u001b[0m\u001b[01;32mconsole_bot.sh\u001b[0m*              \u001b[01;32mtrain_nn_answer_relevancy.sh\u001b[0m*\n",
            "prepare_datasets.cmd         \u001b[01;32mtrain_nn_enough_premises.sh\u001b[0m*\n",
            "\u001b[01;32mprepare_datasets.sh\u001b[0m*         \u001b[01;32mtrain_nn_entity_extractor.sh\u001b[0m*\n",
            "\u001b[01;32mquery2_lgb_relevancy.sh\u001b[0m*     \u001b[01;32mtrain_nn_interpreter.sh\u001b[0m*\n",
            "\u001b[01;32mquery2_lgb_synonymy.sh\u001b[0m*      train_wordchar2vector.cmd\n",
            "\u001b[01;32mquery_lgb_synonymy.sh\u001b[0m*       train_wordchar2vector.sh\n",
            "\u001b[01;32mtrain_intent_classifier.sh\u001b[0m*  vectorize_wordchar2vector.cmd\n",
            "train_lgb_relevancy.sh       vectorize_wordchar2vector.sh\n",
            "\u001b[01;32mtrain_lgb_synonymy.sh\u001b[0m*\n"
          ],
          "name": "stdout"
        }
      ]
    },
    {
      "cell_type": "code",
      "metadata": {
        "id": "cS4Sg2iKY_jh",
        "colab": {
          "base_uri": "https://localhost:8080/"
        },
        "outputId": "d45afd1e-dc15-42b8-cf6b-668890febac2"
      },
      "source": [
        "!./console_bot.sh"
      ],
      "execution_count": 10,
      "outputs": [
        {
          "output_type": "stream",
          "text": [
            "2021-06-04 23:52:43.571898: I tensorflow/stream_executor/platform/default/dso_loader.cc:48] Successfully opened dynamic library libcudart.so.10.1\n",
            "Traceback (most recent call last):\n",
            "  File \"../ruchatbot/frontend/console_chatbot.py\", line 17, in <module>\n",
            "    from ruchatbot.frontend.bot_creator import create_chatbot, ChitchatConfig\n",
            "  File \"/content/chatbot/ruchatbot/frontend/bot_creator.py\", line 14, in <module>\n",
            "    from ruchatbot.bot.text_utils import TextUtils\n",
            "  File \"/content/chatbot/ruchatbot/bot/text_utils.py\", line 36, in <module>\n",
            "    from ruchatbot.bot.word_embeddings import WordEmbeddings\n",
            "  File \"/content/chatbot/ruchatbot/bot/word_embeddings.py\", line 10, in <module>\n",
            "    from ruchatbot.bot.wordchar2vector_model import Wordchar2VectorModel\n",
            "  File \"/content/chatbot/ruchatbot/bot/wordchar2vector_model.py\", line 17, in <module>\n",
            "    from keras.models import model_from_json\n",
            "  File \"/usr/local/lib/python3.7/dist-packages/keras/__init__.py\", line 25, in <module>\n",
            "    from keras import models\n",
            "  File \"/usr/local/lib/python3.7/dist-packages/keras/models.py\", line 19, in <module>\n",
            "    from keras import backend\n",
            "  File \"/usr/local/lib/python3.7/dist-packages/keras/backend.py\", line 37, in <module>\n",
            "    from tensorflow.python.eager.context import get_config\n",
            "ImportError: cannot import name 'get_config' from 'tensorflow.python.eager.context' (/usr/local/lib/python3.7/dist-packages/tensorflow/python/eager/context.py)\n"
          ],
          "name": "stdout"
        }
      ]
    }
  ]
}